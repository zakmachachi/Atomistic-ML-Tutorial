{
 "cells": [
  {
   "cell_type": "markdown",
   "id": "cee109ca",
   "metadata": {},
   "source": [
    "## Install prerequisite packages. \n",
    "It is highly recommended to create a new conda environment\n",
    "```bash\n",
    "conda create -n atomistic-ml-class python=3.10\n",
    "conda activate atomistic-ml-class\n",
    "```\n",
    "```bash\n"
   ]
  },
  {
   "cell_type": "code",
   "execution_count": null,
   "id": "2466c78d",
   "metadata": {},
   "outputs": [],
   "source": [
    "!pip install numpy==1.26\n",
    "!pip install quippy-ase\n",
    "!pip install graph-pes chemiscope"
   ]
  },
  {
   "cell_type": "code",
   "execution_count": null,
   "id": "4e03bca4",
   "metadata": {},
   "outputs": [],
   "source": [
    "!graph-pes-train -h"
   ]
  },
  {
   "cell_type": "code",
   "execution_count": null,
   "id": "f1f0862c",
   "metadata": {},
   "outputs": [],
   "source": [
    "!pip install ipywidgets"
   ]
  },
  {
   "cell_type": "markdown",
   "id": "84dea615",
   "metadata": {},
   "source": [
    "# Part 1\n"
   ]
  },
  {
   "cell_type": "markdown",
   "id": "93a58da9",
   "metadata": {},
   "source": [
    "## Working with atomic structures in Python\n",
    "\n",
    "Part 1 of this class will focus on the basic concepts of working with atomic structures in Python. We will use already developed packages, such as ASE (Atomic Simulation Environment) and load atoms, to work with atomic structures. ASE is a powerful and flexible package for working with atomic structures, and it is widely used in the field of computational materials science. Load atoms is a versatile package for loading published datasets from repositories and also acts as a wrapper for ASE, enabling easier manipulation of atomic structures.\n",
    "\n",
    "During this exercise we will learn how to load atomic structures, visualize them, and perform basic operations such as calculating distances and angles between atoms. You will be asked to write some code to perform these operations, and so you should read the documentation of the packages we will use. The documentation is available at:\n",
    "\n",
    "https://wiki.fysik.dtu.dk/ase/\n",
    "\n",
    "https://jla-gardner.github.io/load-atoms/"
   ]
  },
  {
   "cell_type": "code",
   "execution_count": null,
   "id": "756968d5",
   "metadata": {},
   "outputs": [],
   "source": [
    "# load dataset\n",
    "\n",
    "from load_atoms import load_dataset\n",
    "import ase.io\n",
    "\n",
    "structures = load_dataset(\"structures_filt.xyz\")"
   ]
  },
  {
   "cell_type": "code",
   "execution_count": null,
   "id": "e6b9fdd2",
   "metadata": {},
   "outputs": [],
   "source": [
    "# explore the contents of the dataset\n",
    "structures"
   ]
  },
  {
   "cell_type": "code",
   "execution_count": null,
   "id": "838ffd44",
   "metadata": {},
   "outputs": [],
   "source": [
    "# visualise some of the structures in the dataset by changing the index\n",
    "from load_atoms import view\n",
    "\n",
    "idx = 30\n",
    "view(structures[idx], show_bonds=True)"
   ]
  },
  {
   "cell_type": "code",
   "execution_count": null,
   "id": "61a1b2fc",
   "metadata": {},
   "outputs": [],
   "source": [
    "# write the structures to a file and inspect its content\n",
    "# you can use the write function from ase.io\n",
    "\n",
    "..."
   ]
  },
  {
   "cell_type": "markdown",
   "id": "c496d4ce",
   "metadata": {},
   "source": [
    "## Generate descriptors\n",
    "Descriptors are a way to represent atomic structures in a way that is suitable for machine learning. They are typically based on the positions of atoms and their chemical environments. In this exercise, you should implement a simple descriptor based on the distances between atoms, the angle between atoms and also the coordination number. Refer to the ASE documentation for functions to help calculate these properties (or if you are feeling adventurous, you can implement them yourself)!\n",
    "\n",
    "Some questions to consider:\n",
    "1. What are the differences in distances between atoms structures with different densities?\n",
    "2. What are the differences in angles between atoms structures with different densities?\n",
    "3. What are the coordination numbers in structures with different densities? What happens when you change the cutoff radius? Is it possible to find a cutoff radius which first neighbour bonding information? \n",
    "4. Can you find patterns across the different structures and the corresponding descriptors?\n",
    "5. Look at the size of the descriptors generated. How much more data are you generating through angular compared to distance descriptors? What body order descriptors are you generating?"
   ]
  },
  {
   "cell_type": "code",
   "execution_count": null,
   "id": "1e57ca50",
   "metadata": {},
   "outputs": [],
   "source": [
    "from ase.neighborlist import neighbor_list"
   ]
  },
  {
   "cell_type": "code",
   "execution_count": null,
   "id": "ccba4be6",
   "metadata": {},
   "outputs": [],
   "source": [
    "structure_0 = structures[0]\n",
    "\n",
    "i, j, d = neighbor_list(\"ijd\", structure_0, cutoff=3.7)\n",
    "print(i)\n",
    "print(j)\n",
    "print(d)"
   ]
  },
  {
   "cell_type": "code",
   "execution_count": null,
   "id": "c18be06e",
   "metadata": {},
   "outputs": [],
   "source": [
    "import numpy as np\n",
    "\n",
    "coordination_num = np.bincount(i)"
   ]
  },
  {
   "cell_type": "code",
   "execution_count": null,
   "id": "67566bfe",
   "metadata": {},
   "outputs": [],
   "source": [
    "coordination_num"
   ]
  },
  {
   "cell_type": "code",
   "execution_count": null,
   "id": "cd886815",
   "metadata": {},
   "outputs": [],
   "source": [
    "import matplotlib.pyplot as plt\n",
    "\n",
    "plt.hist(coordination_num, bins=20)"
   ]
  },
  {
   "cell_type": "code",
   "execution_count": null,
   "id": "e939455c",
   "metadata": {},
   "outputs": [],
   "source": [
    "# plot the radial distribution function – look in the ASE docs for how to do this https://wiki.fysik.dtu.dk/ase/ase/neighborlist.html#ase.neighborlist.neighbor_list"
   ]
  },
  {
   "cell_type": "code",
   "execution_count": null,
   "id": "705db6e8",
   "metadata": {},
   "outputs": [],
   "source": [
    "# plot the angular distribution function – look at the ASE docs for how to do this https://wiki.fysik.dtu.dk/ase/ase/geometry.html#ase.geometry.analysis.Analysis.get_angles\n",
    "\n",
    "from ase.geometry.analysis import Analysis\n",
    "\n",
    "analysis = Analysis(structure_0)\n",
    "CCCAngles = analysis.get_angles(\"C\", \"C\", \"C\", unique=True)\n",
    "CCCAngleValues = analysis.get_values(CCCAngles)\n",
    "\n",
    "plt.hist(CCCAngleValues, bins=40)"
   ]
  },
  {
   "cell_type": "markdown",
   "id": "32b38762",
   "metadata": {},
   "source": [
    "## Part 2\n",
    "## Many-body descriptors\n",
    "In the last part of the class, we focused on two- and three-body descriptors and building a representation of this data through the radial distribution function (RDF) and the angular distribution function (ADF). The RDF is a measure of the probability of finding an atom at a certain distance from another atom, while the ADF is a measure of the probability of finding an atom at a certain angle with respect to another atom. These functions are useful for understanding the local structure of materials and can be used to identify different phases or structures and can be generated experimentally through X-ray diffraction or neutron scattering experiments.\n",
    "\n",
    "We now move to many-body descriptors, which provide a more complex and detailed representation of atomic structures. Unlike simpler pairwise and angular descriptors, many-body descriptors account for interactions among more atoms, capturing richer structural information. One widely used many-body descriptor is the Smooth Overlap of Atomic Positions (SOAP). SOAP represents the local atomic environment around each atom as a continuous atomic density, constructed by placing Gaussian functions on neighboring atoms. This smooth density is then expanded in a basis of radial functions and spherical harmonics. The key idea is to compare atomic environments by computing the similarity between these densities, using an inner product that is invariant to rotations and permutations. This makes SOAP a powerful and flexible tool for characterising local atomic environments, enabling accurate predictions in machine learning models and aiding in the identification of structural motifs or phases in materials.\n",
    "\n",
    "However, SOAP descriptors are high dimensional and so visualising the data becomes difficult. To overcome this, we can use dimensionality reduction techniques such as principal component analysis (PCA) to reduce the dimensionality of the SOAP descriptors. PCA is a statistical technique that transforms the data into a new coordinate system, where the greatest variance is captured in the first few dimensions. This allows us to visualise the data in a lower-dimensional space while retaining most of the information (hopefully). We collaquially refer to these as \"SOAP maps\"."
   ]
  },
  {
   "cell_type": "code",
   "execution_count": null,
   "id": "4c4f84e9",
   "metadata": {},
   "outputs": [],
   "source": [
    "# Lets build the SOAP descriptor using quippy, a package for calculating atomic-scale descriptors. The documentation is here: https://libatoms.github.io/QUIP/\n",
    "from quippy.descriptors import Descriptor\n",
    "\n",
    "desc = Descriptor(\"soap cutoff=3.7 n_max=4 l_max=4 atom_sigma=0.5\") # Play around with the parameters to see how they affect the descriptor. cutoff is the cutoff radius, n_max is the maximum number of radial basis functions, l_max is the maximum number of angular basis functions, and atom_sigma is the width of the Gaussian used to smooth the atomic density.\n",
    "soaps = desc.calc(structure_0)[\"data\"]\n",
    "soaps.shape"
   ]
  },
  {
   "cell_type": "code",
   "execution_count": null,
   "id": "8f757cd6",
   "metadata": {},
   "outputs": [],
   "source": [
    "# Let's write a function to do dimensionality reduction for us\n",
    "# Add other methods to the below function\n",
    "\n",
    "from sklearn.decomposition import PCA\n",
    "from sklearn.preprocessing import StandardScaler\n",
    "\n",
    "\n",
    "def do_analysis(data, method, **kwargs):\n",
    "    \"\"\"\n",
    "    Function to perform a dimensionality reduction analysis on the\n",
    "    descriptors.\n",
    "    \"\"\"\n",
    "\n",
    "    # scale the data.\n",
    "    scaler = StandardScaler()\n",
    "    scaled_data = scaler.fit_transform(data)\n",
    "\n",
    "    # perform the analysis.\n",
    "    if method == \"pca\":\n",
    "        pca = PCA(n_components=2)\n",
    "        pca.fit(scaled_data)\n",
    "        x_pca = pca.transform(scaled_data)\n",
    "        # print(scaled_data.shape)\n",
    "        # print(x_pca.shape)\n",
    "        return x_pca\n",
    "\n",
    "    else:\n",
    "        print(\"Error: method not recognised.\")\n",
    "        return None"
   ]
  },
  {
   "cell_type": "code",
   "execution_count": null,
   "id": "326cfd3f",
   "metadata": {},
   "outputs": [],
   "source": [
    "pca_data = do_analysis(soaps, \"pca\")"
   ]
  },
  {
   "cell_type": "code",
   "execution_count": null,
   "id": "bbcf3ed0",
   "metadata": {},
   "outputs": [],
   "source": [
    "import chemiscope\n",
    "\n",
    "properties = {\n",
    "    \"PCA\": {\n",
    "        \"target\": \"atom\",\n",
    "        \"values\": pca_data,\n",
    "        \"description\": \"PCA of per-atom representation of the structures\",\n",
    "    },\n",
    "    \"coordination_num\": {\n",
    "        \"target\": \"atom\",\n",
    "        \"values\": coordination_num,\n",
    "        \"description\": \"Coordination number of each atom\",\n",
    "    },\n",
    "    \"local_energy\": {\n",
    "        \"target\": \"atom\",\n",
    "        \"values\": structure_0.arrays[\"local_energies\"],\n",
    "        \"description\": \"Local energies predicted with C-GAP-17\",\n",
    "    },\n",
    "}\n",
    "\n",
    "# properties_total = properties | frame_properties\n",
    "ats_envs = chemiscope.all_atomic_environments([structure_0], cutoff=3.7)\n",
    "chemiscope.show(frames=[structure_0], properties=properties, environments=ats_envs)"
   ]
  },
  {
   "cell_type": "code",
   "execution_count": null,
   "id": "04edae72",
   "metadata": {},
   "outputs": [],
   "source": [
    "# try again but for structures with higher densities ..."
   ]
  },
  {
   "cell_type": "code",
   "execution_count": null,
   "id": "b07cbeb9",
   "metadata": {},
   "outputs": [],
   "source": [
    "from quippy.descriptors import Descriptor\n",
    "\n",
    "desc = Descriptor(\"soap cutoff=3.7 n_max=4 l_max=4 atom_sigma=0.5 average=T\")\n",
    "soaps = np.array([desc.calc(s)[\"data\"] for s in structures])\n",
    "soaps.shape\n",
    "soaps = soaps.reshape(soaps.shape[0], -1)"
   ]
  },
  {
   "cell_type": "code",
   "execution_count": null,
   "id": "f977e1f6",
   "metadata": {},
   "outputs": [],
   "source": [
    "pca_data = do_analysis(soaps, \"pca\")"
   ]
  },
  {
   "cell_type": "code",
   "execution_count": null,
   "id": "ac756633",
   "metadata": {},
   "outputs": [],
   "source": [
    "structure_0.info"
   ]
  },
  {
   "cell_type": "code",
   "execution_count": null,
   "id": "59812ba1",
   "metadata": {},
   "outputs": [],
   "source": [
    "properties = {\n",
    "    \"PCA\": {\n",
    "        \"target\": \"structure\",\n",
    "        \"values\": pca_data,\n",
    "        \"description\": \"PCA of per-atom representation of the structures\",\n",
    "    },\n",
    "    \"density\": {\n",
    "        \"target\": \"structure\",\n",
    "        \"values\": [s.info[\"density\"] for s in structures],\n",
    "        \"description\": \"Density of the structure\",\n",
    "    },\n",
    "    \"total_energy\": {\n",
    "        \"target\": \"structure\",\n",
    "        \"values\": [s.info[\"energy\"] for s in structures],\n",
    "        \"description\": \"Total energies predicted with C-GAP-17\",\n",
    "    },\n",
    "    \"anneal_T\": {\n",
    "        \"target\": \"structure\",\n",
    "        \"values\": [s.info[\"anneal_T\"] for s in structures],\n",
    "        \"description\": \"Annealing temperature of the structure\",\n",
    "    },\n",
    "}\n",
    "\n",
    "# properties_total = properties | frame_properties\n",
    "chemiscope.show(frames=structures, properties=properties)"
   ]
  },
  {
   "cell_type": "markdown",
   "id": "c02ecf80",
   "metadata": {},
   "source": [
    "## Part 3\n",
    "# Predicting local energies\n",
    "\n",
    "We have now generated a large number of descriptors and we can use these to predict the local energy of the atomic structures. We will use a simple linear regression model to predict the local energy of the atomic structures based on the descriptors we have generated. We will also use cross-validation to evaluate the performance of the model and to ensure that it is not overfitting to the training data.\n",
    "\n",
    "We will use the scikit-learn package for this. The documentation is available at:\n",
    "https://scikit-learn.org/stable/"
   ]
  },
  {
   "cell_type": "code",
   "execution_count": null,
   "id": "75c98d8a",
   "metadata": {},
   "outputs": [],
   "source": [
    "# load structures and split the data into training, validation and test\n",
    "structures = load_dataset(\"structures_filt.xyz\")\n",
    "train, val, test = structures.random_split([0.8, 0.1, 0.1], seed=42)"
   ]
  },
  {
   "cell_type": "code",
   "execution_count": null,
   "id": "6de21e25",
   "metadata": {},
   "outputs": [],
   "source": [
    "# get the target labels\n",
    "energies_train = train.arrays[\"local_energies\"]\n",
    "energies_val = val.arrays[\"local_energies\"]\n",
    "energies_test = test.arrays[\"local_energies\"]"
   ]
  },
  {
   "cell_type": "code",
   "execution_count": null,
   "id": "fe260b5f",
   "metadata": {},
   "outputs": [],
   "source": [
    "# generate the SOAP descriptors for the training, validation, and test sets\n",
    "\n",
    "desc = Descriptor(\"soap cutoff=3.7 n_max=4 l_max=4 atom_sigma=0.5\")\n",
    "soaps_train = np.array([desc.calc(s)[\"data\"] for s in train])\n",
    "soaps_val = np.array([desc.calc(s)[\"data\"] for s in val])\n",
    "soaps_test = np.array([desc.calc(s)[\"data\"] for s in test])"
   ]
  },
  {
   "cell_type": "markdown",
   "id": "1727ab4f",
   "metadata": {},
   "source": [
    "### linear model\n"
   ]
  },
  {
   "cell_type": "markdown",
   "id": "0b69c050",
   "metadata": {},
   "source": [
    "you can implement your own linear model or use `scikit-learn`'s implementation; familiarise yourself with how the model is initialised, trained, and validated/tested\n"
   ]
  },
  {
   "cell_type": "markdown",
   "id": "3e0ea0b7",
   "metadata": {},
   "source": [
    "the descriptors are reshaped so that the first dimension matches that of the labels\n"
   ]
  },
  {
   "cell_type": "code",
   "execution_count": null,
   "id": "89fe219a",
   "metadata": {},
   "outputs": [],
   "source": [
    "from sklearn.linear_model import LinearRegression\n",
    "\n",
    "model = LinearRegression()\n",
    "model.fit(soaps_train.reshape(-1, soaps_train.shape[-1]), energies_train)"
   ]
  },
  {
   "cell_type": "code",
   "execution_count": null,
   "id": "2dbe0abd",
   "metadata": {},
   "outputs": [],
   "source": [
    "energies_train_pred = model.predict(soaps_train.reshape(-1, soaps_train.shape[-1]))\n",
    "energies_val_pred = model.predict(soaps_val.reshape(-1, soaps_val.shape[-1]))\n",
    "energies_test_pred = model.predict(soaps_test.reshape(-1, soaps_test.shape[-1]))"
   ]
  },
  {
   "cell_type": "code",
   "execution_count": null,
   "id": "48fe099f",
   "metadata": {},
   "outputs": [],
   "source": [
    "plt.scatter(energies_train, energies_train_pred, s=4, label=\"reference\")\n",
    "plt.scatter(energies_test, energies_test_pred, s=4, label=\"ML\")\n",
    "plt.axline((energies_train[0], energies_train[0]), slope=1, color=\"red\", linestyle=\"--\")\n",
    "\n",
    "plt.legend()"
   ]
  },
  {
   "cell_type": "code",
   "execution_count": null,
   "id": "020e365c",
   "metadata": {},
   "outputs": [],
   "source": [
    "# evaluate the model's performance by computing the mean absolute error (MAE) and the root mean square error (RMSE) on the test set"
   ]
  },
  {
   "cell_type": "markdown",
   "id": "fa9833ac",
   "metadata": {},
   "source": [
    "### ridge regression\n"
   ]
  },
  {
   "cell_type": "markdown",
   "id": "cf8472b3",
   "metadata": {},
   "source": [
    "the ridge regression differs from the linear regression by the introduction of the regularisation term, noted alpha $\\alpha$ in `scikit-learn`\n"
   ]
  },
  {
   "cell_type": "code",
   "execution_count": null,
   "id": "d868c10e",
   "metadata": {},
   "outputs": [],
   "source": [
    "from sklearn.linear_model import Ridge\n",
    "\n",
    "alpha = ...  # experiment with different values of alpha\n",
    "model = Ridge(alpha=alpha)\n",
    "model.fit(soaps_train.reshape(-1, soaps_train.shape[-1]), energies_train)"
   ]
  },
  {
   "cell_type": "code",
   "execution_count": null,
   "id": "2eb7a550",
   "metadata": {},
   "outputs": [],
   "source": [
    "train_pred = model.predict(soaps_train.reshape(-1, soaps_train.shape[-1]))\n",
    "val_pred = model.predict(soaps_val.reshape(-1, soaps_val.shape[-1]))\n",
    "test_pred = model.predict(soaps_test.reshape(-1, soaps_test.shape[-1]))"
   ]
  },
  {
   "cell_type": "code",
   "execution_count": null,
   "id": "3254eb8e",
   "metadata": {},
   "outputs": [],
   "source": [
    "plt.scatter(energies_train, energies_train_pred, s=4, label=\"reference\")\n",
    "plt.scatter(energies_test, energies_test_pred, s=4, label=\"ML\")\n",
    "plt.axline((energies_train[0], energies_train[0]), slope=1, color=\"red\", linestyle=\"--\")\n",
    "\n",
    "plt.legend()"
   ]
  },
  {
   "cell_type": "code",
   "execution_count": null,
   "id": "8f851077",
   "metadata": {},
   "outputs": [],
   "source": [
    "# using the validation set, find the optimal value of the regularisation and evaluate the performance metrics of this model on the test set\n",
    "\n",
    "..."
   ]
  },
  {
   "cell_type": "code",
   "execution_count": null,
   "id": "2e3e6f39",
   "metadata": {},
   "outputs": [],
   "source": [
    "# try the neural network model from scikit-learn\n",
    "# implement a simple kernel model (or Gaussian Process Regression model) as detailed in the GPR review; you can also use kernel ridge regression from scikit-learn."
   ]
  }
 ],
 "metadata": {
  "kernelspec": {
   "display_name": "graphPES",
   "language": "python",
   "name": "python3"
  },
  "language_info": {
   "codemirror_mode": {
    "name": "ipython",
    "version": 3
   },
   "file_extension": ".py",
   "mimetype": "text/x-python",
   "name": "python",
   "nbconvert_exporter": "python",
   "pygments_lexer": "ipython3",
   "version": "3.10.16"
  }
 },
 "nbformat": 4,
 "nbformat_minor": 5
}
