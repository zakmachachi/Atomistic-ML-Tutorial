{
 "cells": [
  {
   "cell_type": "code",
   "execution_count": null,
   "id": "2466c78d",
   "metadata": {},
   "outputs": [],
   "source": [
    "!pip install numpy==1.26\n",
    "!pip install quippy-ase\n",
    "!pip install graph-pes chemiscope"
   ]
  },
  {
   "cell_type": "code",
   "execution_count": null,
   "id": "4e03bca4",
   "metadata": {},
   "outputs": [],
   "source": [
    "!graph-pes-train -h"
   ]
  },
  {
   "cell_type": "code",
   "execution_count": null,
   "id": "f1f0862c",
   "metadata": {},
   "outputs": [],
   "source": [
    "!pip install ipywidgets\n"
   ]
  },
  {
   "cell_type": "markdown",
   "id": "84dea615",
   "metadata": {},
   "source": [
    "# Part 1\n"
   ]
  },
  {
   "cell_type": "markdown",
   "id": "93a58da9",
   "metadata": {},
   "source": [
    "## Working with atomic structures in Python\n"
   ]
  },
  {
   "cell_type": "code",
   "execution_count": null,
   "id": "756968d5",
   "metadata": {},
   "outputs": [],
   "source": [
    "# load dataset\n",
    "\n",
    "from load_atoms import load_dataset\n",
    "import ase.io\n",
    "\n",
    "structures = load_dataset(\"structures_filt.xyz\")"
   ]
  },
  {
   "cell_type": "code",
   "execution_count": null,
   "id": "e6b9fdd2",
   "metadata": {},
   "outputs": [],
   "source": [
    "# explore the contents of the dataset\n",
    "structures"
   ]
  },
  {
   "cell_type": "code",
   "execution_count": null,
   "id": "838ffd44",
   "metadata": {},
   "outputs": [],
   "source": [
    "# visualise some of the structures in the dataset by changing the index\n",
    "from load_atoms import view\n",
    "\n",
    "idx = 30\n",
    "view(structures[idx], show_bonds=True)"
   ]
  },
  {
   "cell_type": "code",
   "execution_count": null,
   "id": "61a1b2fc",
   "metadata": {},
   "outputs": [],
   "source": [
    "# write the structures to a file and inspect its content\n",
    "# you can use the write function from ase.io\n",
    "\n",
    "..."
   ]
  },
  {
   "cell_type": "markdown",
   "id": "c496d4ce",
   "metadata": {},
   "source": [
    "## Generate descriptors\n"
   ]
  },
  {
   "cell_type": "code",
   "execution_count": null,
   "id": "1e57ca50",
   "metadata": {},
   "outputs": [],
   "source": [
    "from ase.neighborlist import neighbor_list"
   ]
  },
  {
   "cell_type": "code",
   "execution_count": null,
   "id": "ccba4be6",
   "metadata": {},
   "outputs": [],
   "source": [
    "structure_0 = structures[0]\n",
    "\n",
    "i, j, d = neighbor_list(\"ijd\", structure_0, cutoff=3.7)\n",
    "print(i)\n",
    "print(j)\n",
    "print(d)"
   ]
  },
  {
   "cell_type": "code",
   "execution_count": null,
   "id": "c18be06e",
   "metadata": {},
   "outputs": [],
   "source": [
    "import numpy as np\n",
    "\n",
    "coordination_num = np.bincount(i)"
   ]
  },
  {
   "cell_type": "code",
   "execution_count": null,
   "id": "67566bfe",
   "metadata": {},
   "outputs": [],
   "source": [
    "coordination_num"
   ]
  },
  {
   "cell_type": "code",
   "execution_count": null,
   "id": "cd886815",
   "metadata": {},
   "outputs": [],
   "source": [
    "import matplotlib.pyplot as plt\n",
    "\n",
    "plt.hist(coordination_num, bins=20)"
   ]
  },
  {
   "cell_type": "code",
   "execution_count": null,
   "id": "e939455c",
   "metadata": {},
   "outputs": [],
   "source": [
    "# plot the radial distribution function – look in the ASE docs for how to do this https://wiki.fysik.dtu.dk/ase/ase/neighborlist.html#ase.neighborlist.neighbor_list"
   ]
  },
  {
   "cell_type": "code",
   "execution_count": null,
   "id": "705db6e8",
   "metadata": {},
   "outputs": [],
   "source": [
    "# plot the angular distribution function – look at the ASE docs for how to do this https://wiki.fysik.dtu.dk/ase/ase/geometry.html#ase.geometry.analysis.Analysis.get_angles\n",
    "\n",
    "from ase.geometry.analysis import Analysis\n",
    "\n",
    "analysis = Analysis(structure_0)\n",
    "CCCAngles = analysis.get_angles(\"C\", \"C\", \"C\", unique=True)\n",
    "CCCAngleValues = analysis.get_values(CCCAngles)\n",
    "\n",
    "plt.hist(CCCAngleValues, bins=40)"
   ]
  },
  {
   "cell_type": "markdown",
   "id": "32b38762",
   "metadata": {},
   "source": [
    "# Part 2\n"
   ]
  },
  {
   "cell_type": "code",
   "execution_count": null,
   "id": "4c4f84e9",
   "metadata": {},
   "outputs": [],
   "source": [
    "from quippy.descriptors import Descriptor\n",
    "\n",
    "desc = Descriptor(\"soap cutoff=3.7 n_max=4 l_max=4 atom_sigma=0.5\")\n",
    "soaps = desc.calc(structure_0)[\"data\"]\n",
    "soaps.shape"
   ]
  },
  {
   "cell_type": "code",
   "execution_count": null,
   "id": "8f757cd6",
   "metadata": {},
   "outputs": [],
   "source": [
    "# Let's write a function to do dimentionality reduction for us\n",
    "# Add other mothods to the below function\n",
    "\n",
    "from sklearn.decomposition import PCA\n",
    "from sklearn.preprocessing import StandardScaler\n",
    "\n",
    "\n",
    "def do_analysis(data, method, **kwargs):\n",
    "    \"\"\"\n",
    "    Function to perform a dimensionality reduction analysis on the\n",
    "    descriptors.\n",
    "    \"\"\"\n",
    "\n",
    "    # scale the data.\n",
    "    scaler = StandardScaler()\n",
    "    scaled_data = scaler.fit_transform(data)\n",
    "\n",
    "    # perform the analysis.\n",
    "    if method == \"pca\":\n",
    "        pca = PCA(n_components=2)\n",
    "        pca.fit(scaled_data)\n",
    "        x_pca = pca.transform(scaled_data)\n",
    "        # print(scaled_data.shape)\n",
    "        # print(x_pca.shape)\n",
    "        return x_pca\n",
    "\n",
    "    else:\n",
    "        print(\"Error: method not recognised.\")\n",
    "        return None"
   ]
  },
  {
   "cell_type": "code",
   "execution_count": null,
   "id": "326cfd3f",
   "metadata": {},
   "outputs": [],
   "source": [
    "pca_data = do_analysis(soaps, \"pca\")"
   ]
  },
  {
   "cell_type": "code",
   "execution_count": null,
   "id": "bbcf3ed0",
   "metadata": {},
   "outputs": [],
   "source": [
    "import chemiscope\n",
    "\n",
    "properties = {\n",
    "    \"PCA\": {\n",
    "        \"target\": \"atom\",\n",
    "        \"values\": pca_data,\n",
    "        \"description\": \"PCA of per-atom representation of the structures\",\n",
    "    },\n",
    "    \"coordination_num\": {\n",
    "        \"target\": \"atom\",\n",
    "        \"values\": coordination_num,\n",
    "        \"description\": \"Coordination number of each atom\",\n",
    "    },\n",
    "    \"local_energy\": {\n",
    "        \"target\": \"atom\",\n",
    "        \"values\": structure_0.arrays[\"local_energies\"],\n",
    "        \"description\": \"Local energies predicted with C-GAP-17\",\n",
    "    },\n",
    "}\n",
    "\n",
    "# properties_total = properties | frame_properties\n",
    "ats_envs = chemiscope.all_atomic_environments([structure_0], cutoff=3.7)\n",
    "chemiscope.show(frames=[structure_0], properties=properties, environments=ats_envs)"
   ]
  },
  {
   "cell_type": "code",
   "execution_count": null,
   "id": "04edae72",
   "metadata": {},
   "outputs": [],
   "source": [
    "# try again but for structures with higher densities"
   ]
  },
  {
   "cell_type": "code",
   "execution_count": null,
   "id": "b07cbeb9",
   "metadata": {},
   "outputs": [],
   "source": [
    "from quippy.descriptors import Descriptor\n",
    "\n",
    "desc = Descriptor(\"soap cutoff=3.7 n_max=4 l_max=4 atom_sigma=0.5 average=T\")\n",
    "soaps = np.array([desc.calc(s)[\"data\"] for s in structures])\n",
    "soaps.shape\n",
    "soaps = soaps.reshape(soaps.shape[0], -1)"
   ]
  },
  {
   "cell_type": "code",
   "execution_count": null,
   "id": "f977e1f6",
   "metadata": {},
   "outputs": [],
   "source": [
    "pca_data = do_analysis(soaps, \"pca\")"
   ]
  },
  {
   "cell_type": "code",
   "execution_count": null,
   "id": "ac756633",
   "metadata": {},
   "outputs": [],
   "source": [
    "structure_0.info"
   ]
  },
  {
   "cell_type": "code",
   "execution_count": null,
   "id": "59812ba1",
   "metadata": {},
   "outputs": [],
   "source": [
    "properties = {\n",
    "    \"PCA\": {\n",
    "        \"target\": \"structure\",\n",
    "        \"values\": pca_data,\n",
    "        \"description\": \"PCA of per-atom representation of the structures\",\n",
    "    },\n",
    "    \"density\": {\n",
    "        \"target\": \"structure\",\n",
    "        \"values\": [s.info[\"density\"] for s in structures],\n",
    "        \"description\": \"Density of the structure\",\n",
    "    },\n",
    "    \"total_energy\": {\n",
    "        \"target\": \"structure\",\n",
    "        \"values\": [s.info[\"energy\"] for s in structures],\n",
    "        \"description\": \"Total energies predicted with C-GAP-17\",\n",
    "    },\n",
    "    \"anneal_T\": {\n",
    "        \"target\": \"structure\",\n",
    "        \"values\": [s.info[\"anneal_T\"] for s in structures],\n",
    "        \"description\": \"Annealing temperature of the structure\",\n",
    "    },\n",
    "}\n",
    "\n",
    "# properties_total = properties | frame_properties\n",
    "chemiscope.show(frames=structures, properties=properties)"
   ]
  },
  {
   "cell_type": "markdown",
   "id": "c02ecf80",
   "metadata": {},
   "source": [
    "# Part 3: Predicting local energies\n"
   ]
  },
  {
   "cell_type": "code",
   "execution_count": null,
   "id": "75c98d8a",
   "metadata": {},
   "outputs": [],
   "source": [
    "# load structures and split the data into training, validation and test\n",
    "structures = load_dataset(\"structures_filt.xyz\")\n",
    "train, val, test = structures.random_split([0.8, 0.1, 0.1], seed=42)"
   ]
  },
  {
   "cell_type": "code",
   "execution_count": null,
   "id": "6de21e25",
   "metadata": {},
   "outputs": [],
   "source": [
    "# get the target labels\n",
    "\n",
    "\n",
    "energies_train = train.arrays[\"local_energies\"]\n",
    "energies_val = val.arrays[\"local_energies\"]\n",
    "energies_test = test.arrays[\"local_energies\"]"
   ]
  },
  {
   "cell_type": "code",
   "execution_count": null,
   "id": "fe260b5f",
   "metadata": {},
   "outputs": [],
   "source": [
    "# generate the SOAP descriptors for the training, validation, and test sets\n",
    "\n",
    "desc = Descriptor(\"soap cutoff=3.7 n_max=4 l_max=4 atom_sigma=0.5\")\n",
    "soaps_train = np.array([desc.calc(s)[\"data\"] for s in train])\n",
    "soaps_val = np.array([desc.calc(s)[\"data\"] for s in val])\n",
    "soaps_test = np.array([desc.calc(s)[\"data\"] for s in test])"
   ]
  },
  {
   "cell_type": "markdown",
   "id": "1727ab4f",
   "metadata": {},
   "source": [
    "### linear model\n"
   ]
  },
  {
   "cell_type": "markdown",
   "id": "0b69c050",
   "metadata": {},
   "source": [
    "you can implement your own linear model or use `scikit-learn`'s implementation; familiarise yourself with how the model is initialised, trained, and validated/tested\n"
   ]
  },
  {
   "cell_type": "markdown",
   "id": "3e0ea0b7",
   "metadata": {},
   "source": [
    "the descriptors are reshaped so that the first dimension matches that of the labels\n"
   ]
  },
  {
   "cell_type": "code",
   "execution_count": null,
   "id": "89fe219a",
   "metadata": {},
   "outputs": [],
   "source": [
    "from sklearn.linear_model import LinearRegression\n",
    "\n",
    "model = LinearRegression()\n",
    "model.fit(soaps_train.reshape(-1, soaps_train.shape[-1]), energies_train)"
   ]
  },
  {
   "cell_type": "code",
   "execution_count": null,
   "id": "2dbe0abd",
   "metadata": {},
   "outputs": [],
   "source": [
    "energies_train_pred = model.predict(soaps_train.reshape(-1, soaps_train.shape[-1]))\n",
    "energies_val_pred = model.predict(soaps_val.reshape(-1, soaps_val.shape[-1]))\n",
    "energies_test_pred = model.predict(soaps_test.reshape(-1, soaps_test.shape[-1]))"
   ]
  },
  {
   "cell_type": "code",
   "execution_count": null,
   "id": "48fe099f",
   "metadata": {},
   "outputs": [],
   "source": [
    "plt.scatter(energies_train, energies_train_pred, s=4, label=\"reference\")\n",
    "plt.scatter(energies_test, energies_test_pred, s=4, label=\"ML\")\n",
    "plt.axline((energies_train[0], energies_train[0]), slope=1, color=\"red\", linestyle=\"--\")\n",
    "\n",
    "plt.legend()"
   ]
  },
  {
   "cell_type": "code",
   "execution_count": null,
   "id": "020e365c",
   "metadata": {},
   "outputs": [],
   "source": [
    "# evaluate the model's performance by computing the mean absolute error (MAE) and the root mean square error (RMSE) on the test set"
   ]
  },
  {
   "cell_type": "markdown",
   "id": "fa9833ac",
   "metadata": {},
   "source": [
    "### ridge regression\n"
   ]
  },
  {
   "cell_type": "markdown",
   "id": "cf8472b3",
   "metadata": {},
   "source": [
    "the ridge regression differs from the linear regression by the introduction of the regularisation term, noted alpha $\\alpha$ in `scikit-learn`\n"
   ]
  },
  {
   "cell_type": "code",
   "execution_count": null,
   "id": "d868c10e",
   "metadata": {},
   "outputs": [],
   "source": [
    "from sklearn.linear_model import Ridge\n",
    "\n",
    "alpha = ...  # experiment with different values of alpha\n",
    "model = Ridge(alpha=alpha)\n",
    "model.fit(soaps_train.reshape(-1, soaps_train.shape[-1]), energies_train)"
   ]
  },
  {
   "cell_type": "code",
   "execution_count": null,
   "id": "2eb7a550",
   "metadata": {},
   "outputs": [],
   "source": [
    "train_pred = model.predict(soaps_train.reshape(-1, soaps_train.shape[-1]))\n",
    "val_pred = model.predict(soaps_val.reshape(-1, soaps_val.shape[-1]))\n",
    "test_pred = model.predict(soaps_test.reshape(-1, soaps_test.shape[-1]))"
   ]
  },
  {
   "cell_type": "code",
   "execution_count": null,
   "id": "3254eb8e",
   "metadata": {},
   "outputs": [],
   "source": [
    "plt.scatter(energies_train, energies_train_pred, s=4, label=\"reference\")\n",
    "plt.scatter(energies_test, energies_test_pred, s=4, label=\"ML\")\n",
    "plt.axline((energies_train[0], energies_train[0]), slope=1, color=\"red\", linestyle=\"--\")\n",
    "\n",
    "plt.legend()"
   ]
  },
  {
   "cell_type": "code",
   "execution_count": null,
   "id": "8f851077",
   "metadata": {},
   "outputs": [],
   "source": [
    "# using the validation set, find the optimal value of the regularisation and evaluate the performance metrics of this model on the test set\n",
    "\n",
    "..."
   ]
  },
  {
   "cell_type": "code",
   "execution_count": null,
   "id": "2e3e6f39",
   "metadata": {},
   "outputs": [],
   "source": [
    "# try the neural network model from scikit-learn\n",
    "# implement a simple kernel model (or Gaussian Process Regression model) as detailed in the GPR review; you can also use kernel ridge regression from scikit-learn."
   ]
  }
 ],
 "metadata": {
  "kernelspec": {
   "display_name": "graphPES",
   "language": "python",
   "name": "python3"
  },
  "language_info": {
   "codemirror_mode": {
    "name": "ipython",
    "version": 3
   },
   "file_extension": ".py",
   "mimetype": "text/x-python",
   "name": "python",
   "nbconvert_exporter": "python",
   "pygments_lexer": "ipython3",
   "version": "3.10.16"
  }
 },
 "nbformat": 4,
 "nbformat_minor": 5
}
