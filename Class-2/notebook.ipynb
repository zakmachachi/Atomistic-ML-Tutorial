{
 "cells": [
  {
   "cell_type": "markdown",
   "id": "643a74cb",
   "metadata": {},
   "source": [
    "## Housekeeping for the class. \n",
    "If you are using WSL (Windows Subsystem for Linux), you will need to reactivate your conda environment from within the _correct_ WSL distribution. You can do this by opening a terminal and running:\n",
    "\n",
    "```bash\n",
    "wsl -l -v\n",
    "```\n",
    "This will list all your WSL distributions and their versions. Make sure you are in the correct one where you set up your conda environment. To change into the correct distribution, you can use:\n",
    "\n",
    "```bash\n",
    "wsl -d <distribution_name>\n",
    "```\n",
    "Load the correct distribution and then activate your conda environment:\n",
    "```bash\n",
    "conda activate atomistic-ml-class\n",
    "```\n",
    "\n",
    "We will also be using `OVITO` in this class for visualization. If you have not installed it yet, you can do so by following the instructions on the [OVITO website](https://www.ovito.org/#download).\n"
   ]
  },
  {
   "cell_type": "markdown",
   "id": "ad73cdd7",
   "metadata": {},
   "source": [
    "## Part 1\n",
    "\n",
    "## Introduction to machine learning interatomic potentials and training with graph neural networks\n",
    "\n",
    "In this part, we will learn how to train and use machine learning interatomic potentials (MLIPs) to run molecular dynamics. Specifically we will use graph neural networks (GNNs) as our frameworks for our MLIPs, focusing on two lightweight yet expressive models: NequIP and SchNet architectures. You can find the original papers for these architectures here:\n",
    "\n",
    "- [NequIP](https://www.nature.com/articles/s41467-022-29939-5)\n",
    "- [SchNet](https://pubs.aip.org/aip/jcp/article/148/24/241722/962591/SchNet-A-deep-learning-architecture-for-molecules)\n",
    "\n",
    "Unlike descriptor-based models, GNNs learn directly from atomic graphs with position and feature information.\n",
    "\n",
    "Both can be trained on consumer hardware (e.g., laptops), making them suitable for hands-on learning.\n",
    "\n",
    "We will be using graph-pes to handle training and running the models. graph-pes is a Python package that provides a simple interface for training and using GNNs for interatomic potentials. You can find the documentation for graph-pes here:\n",
    "\n",
    "- [graph-pes documentation](https://jla-gardner.github.io/graph-pes/)\n",
    "\n",
    "Take a look at the training documentation here:\n",
    "\n",
    "- [graph-pes training documentation](https://jla-gardner.github.io/graph-pes/cli/graph-pes-train/complete-docs.html)\n"
   ]
  },
  {
   "cell_type": "code",
   "execution_count": 1,
   "id": "2126b2df",
   "metadata": {},
   "outputs": [],
   "source": [
    "from load_atoms import load_dataset\n",
    "\n",
    "# load structures and split the data into training, validation and test\n",
    "structures = load_dataset(\"../Class-1/structures_filt.xyz\")\n",
    "\n",
    "# alternatively, you can load the C-GAP-17 dataset\n",
    "# structures = load_dataset(\"C-GAP-17\")\n",
    "\n",
    "train, val, test = structures.random_split([0.8, 0.1, 0.1], seed=42)"
   ]
  },
  {
   "cell_type": "code",
   "execution_count": null,
   "id": "4d4178f7",
   "metadata": {},
   "outputs": [],
   "source": [
    "from ase.io import write\n",
    "\n",
    "write(\"train.xyz\", train)\n",
    "write(\"valid.xyz\", val)\n",
    "write(\"test.xyz\", test)"
   ]
  },
  {
   "cell_type": "markdown",
   "id": "29570d27",
   "metadata": {},
   "source": [
    "## Hyperparameters and configuration files\n",
    "We provide two configuration input files (in `.yaml` format) for `graphPES` for SchNet and NequIP. Check out their structure, and finish the missing parts to train your first GNN MLIP! Feel free to experiment with different values for hyperparameters such as the `cutoff`, the number of `radial_features` and the number of `layers`. We also have two separate datasets for training and testing the models, one we used in the previous class and C-GAP-17 which you can load by uncommenting in the cells above.\n",
    "\n",
    "Some tasks to complete:\n",
    "1. Change the `cutoff` to 5.0 Angstroms. How does this affect the training time and the model performance? (_Hint: look at the error metrics in the training output_)\n",
    "2. Change the number of training configurations between 10 and 500 to construct the learning curves. (_Hint: Plot the RMSE on the y axis and on x axis plot the number of structures_)\n",
    "3. Change the number of `radial_features` to 64 and the number of `layers` to 2. How does this affect the training time and the model performance? (_Hint: look at the error metrics in the training output_)\n",
    "4. Now train a model with the C-GAP-17 dataset and save this model separately for later. We will be comparing the performance of this model with the one trained on the previous dataset. (_Hint: use the best hyperparameters you found in the previous steps_)"
   ]
  },
  {
   "cell_type": "code",
   "execution_count": null,
   "id": "b1dce38f",
   "metadata": {},
   "outputs": [],
   "source": [
    "# train a grapPES model from the command line\n",
    "# if training with the C-GAP-17 dataset, set the number of training configuration to ~1000\n",
    "# set to fit on GPU 1\n",
    "!graph-pes-train train_SchNet.yaml general/run_id=train-SchNet"
   ]
  },
  {
   "cell_type": "markdown",
   "id": "50e7c6a6",
   "metadata": {},
   "source": [
    "## Evaluating the model performance\n",
    "Once the model(s) has finished training, you can load it and evaluate its performance on the training and test sets. This typically involves calculating the root mean square error (RMSE) between the predicted and true energies and forces. We will be using ASE as a calculator to interface with the trained model to compute the energies and forces. For more information on how to use ASE with graph-pes, check out the documentation here:\n",
    "- [ASE calculator](https://wiki.fysik.dtu.dk/ase/ase/calculators/calculators.html)\n",
    "- [graph-pes ASE interface](https://jla-gardner.github.io/graph-pes/tools/ase.html)"
   ]
  },
  {
   "cell_type": "code",
   "execution_count": 2,
   "id": "f1342066",
   "metadata": {},
   "outputs": [
    {
     "data": {
      "text/plain": [
       "Ellipsis"
      ]
     },
     "execution_count": 2,
     "metadata": {},
     "output_type": "execute_result"
    }
   ],
   "source": [
    "# load graphPES models\n",
    "from graph_pes.models import load_model\n",
    "import torch\n",
    "\n",
    "device = torch.device(\"cuda\" if torch.cuda.is_available() else \"cpu\") # use GPU if available\n",
    "# load the best model from the training\n",
    "best_model = (\n",
    "    load_model(\"graph-pes-results/train-SchNet/model.pt\")  # load the model\n",
    "    .to(device)  # move to GPU if available\n",
    "    .eval()  # set to evaluation mode\n",
    ")\n",
    "\n",
    "# setup ASE calculator\n",
    "calculator = best_model.ase_calculator()\n",
    "\n",
    "# example of getting energies and forces using the calculator\n",
    "frm = test[0]\n",
    "frm.calc = calculator\n",
    "energy_pred = frm.get_potential_energy()\n",
    "forces_pred = frm.get_forces()\n",
    "\n",
    "# perform the same for all structures in the test set and find the performance metric like you did in Day 1\n",
    "# examine scatter plots of reference energies and forces vs ML predicted quantities\n",
    "..."
   ]
  },
  {
   "cell_type": "markdown",
   "id": "af1c874d",
   "metadata": {},
   "source": [
    "Now you can redo the same steps to train a NequIP model (takes ~3 times longer on CPU to obtain a more accurate MLIP). To do so, use the configuration file `train_NequIP.yaml`. Save your best SchNet and NequIP models and create a `models` folder. We will be using these models in the next part of the class.\n",
    "\n",
    "```bash\n",
    "mkdir models\n",
    "```\n"
   ]
  },
  {
   "cell_type": "markdown",
   "id": "b42d6c58",
   "metadata": {},
   "source": [
    "## Part 2\n",
    "## Running molecular dynamics with machine learning interatomic potentials\n",
    "In this section, we will be running molecular dynamics (MD) simulations using the trained MLIPs of Part 1 using the MD engine within ASE. First of all, we test the stability of the trained MLIPs by annealing (holding at constant temperature using the NVT ensemble) a few starting configurations at 300K. This is a good way to check if the model is stable and can reproduce the expected behavior of the system. We will also perform a geometric optimisation of the structures as another test of stability. We will then perform two types of MD simulations:\n",
    "\n",
    "1. **Graphitisation**: A graphitisation simulation is a simulation where we take an initial configuration of carbon which is amorphous at a given density and ramp the temperature from 300K to a high temperature between 2000K and 4000K and anneal for hundreds of picoseconds. This is a less demanding simulation than the melt-quench (see below) but is a good test to study subtle changes in the carbon structure involving bond breaking and formation to form more ordered domains. \n",
    "2. **Melt-Quench**: A melt-quench is a simulation where we first heat the system to a high temperature (> 5000 K) and then rapidly cool it down to room temperature (e.g., 300K). This is a common technique to study the melting and crystallization of materials. This is a more demanding simulation than the graphitisation simulation, as it involves a large temperature ramp, rapid cooling and can result in catastrophic failure of the model if it is not stable.\n",
    "\n",
    "We will be using the `ase.md` module to run the MD simulations and `ase.optimize` for the geometry optimisation. For more information on how to use ASE for MD and geometry optimisation, check out the documentation here:\n",
    "- [ASE MD documentation](https://wiki.fysik.dtu.dk/ase/ase/md.html#module-ase.md)\n",
    "- [ASE Optimizers documentation](https://wiki.fysik.dtu.dk/ase/ase/optimize.html)\n",
    "\n",
    "Some tasks to complete:\n",
    "1. Run a geometry optimisation using LBFGS on a random structure from the C-GAP-17 dataset using the trained SchNet model. Check the final energy and forces of the optimised structure. How do they compare to the initial values? Do the same but now using your NequIP model. Which performs better and does this make sense with the error metrics seen in the output? (_Hint: Change the convergence criterion and number of steps and see what happens_)\n",
    "2. Run a NVT simulation at 300K for 10 ps on a random structure from the C-GAP-17 dataset using the trained SchNet model. Check the final energy and forces of the structure after the simulation. Do the same but now using your NequIP model. Is this structure stable? (_Hint: Visualise the trajectory using OVITO_)\n",
    "3. Run a graphitisation simulation on a random structure from the C-GAP-17 dataset using the trained SchNet model. Check the final energy and forces of the structure after the simulation. Do the same but now using your NequIP model. Try different temperatures and densities and see what kind of structures emerge? (_Hint: You will want to run this for at least 100 ps_)\n",
    "4. Run a melt-quench simulation on a random structure from the C-GAP-17 dataset using the trained SchNet model. Check the final energy and forces of the structure after the simulation. Do the same but now using your NequIP model. How does the structure change during the simulation? What kind of structures emerge? (_Hint: You will want to melt the structure into a liquid to thermalise it and then rapidly cool down. Find the optimal temperature. If it is unstable, try and do this using the models trained on the C-GAP-17 dataset_)"
   ]
  },
  {
   "cell_type": "code",
   "execution_count": 3,
   "id": "9da7ddbe",
   "metadata": {},
   "outputs": [],
   "source": [
    "# load the dataset from Day 1:\n",
    "starting_configs = load_dataset(\"../Class-1/structures_filt.xyz\")"
   ]
  },
  {
   "cell_type": "code",
   "execution_count": 20,
   "id": "703d976d",
   "metadata": {},
   "outputs": [],
   "source": [
    "# load the trained MLIP\n",
    "\n",
    "from graph_pes.models import load_model\n",
    "import torch\n",
    "# Set GPU environment variable to use GPU 1\n",
    "import os\n",
    "os.environ[\"CUDA_VISIBLE_DEVICES\"] = \"1\"\n",
    "device = torch.device(\"cuda\" if torch.cuda.is_available() else \"cpu\")\n",
    "best_model = (\n",
    "    load_model(\"graph-pes-results/train-SchNet/model.pt\")  # load the model\n",
    "    .to(device)  # move to GPU if available\n",
    "    .eval()  # set to evaluation mode\n",
    ")\n",
    "# setup ASE calculator\n",
    "calculator = best_model.ase_calculator()\n",
    "\n",
    "# test with a few indices for different densities and starting configurations\n",
    "initial_frame = starting_configs[0]\n",
    "\n",
    "# setup calculator\n",
    "initial_frame.calc = calculator"
   ]
  },
  {
   "cell_type": "code",
   "execution_count": null,
   "id": "840ac1e3",
   "metadata": {},
   "outputs": [],
   "source": [
    "# Begin by performing a geometry optimization\n",
    "from ase.optimize import LBFGS\n",
    "\n",
    "# write the code to perform geometry optimization. it should be two lines of code!\n",
    "# ...\n",
    "opt = LBFGS(initial_frame, trajectory=\"opt.traj\", logfile=\"opt.log\")\n",
    "opt.run(fmax=0.05, steps=100)  # run the optimizer until forces are below 0.05 eV/Ang\n",
    "\n",
    "# write the optimized structure to a file\n",
    "from ase.io import write\n",
    "write(\"optimized_structure.xyz\", initial_frame)"
   ]
  },
  {
   "cell_type": "code",
   "execution_count": null,
   "id": "8f21e2d1",
   "metadata": {},
   "outputs": [],
   "source": [
    "# Try again but now with FrechetCellFilter to allow the cell to relax\n",
    "from ase.filters import FrechetCellFilter\n",
    "\n",
    "# https://wiki.fysik.dtu.dk/ase/ase/filters.html#ase.filters.FrechetCellFilter"
   ]
  },
  {
   "cell_type": "code",
   "execution_count": 14,
   "id": "f1c7acc0",
   "metadata": {},
   "outputs": [],
   "source": [
    "# this cleans the atoms object to run\n",
    "\n",
    "def rename_calculator_outputs(atoms):\n",
    "    # Rename per-atom array keys\n",
    "    if \"forces\" in atoms.arrays:\n",
    "        atoms.arrays[\"GAP_forces\"] = atoms.arrays[\"forces\"]\n",
    "        del atoms.arrays[\"forces\"]\n",
    "\n",
    "    if \"stress\" in atoms.arrays:\n",
    "        atoms.arrays[\"GAP_stress\"] = atoms.arrays[\"stress\"]\n",
    "        del atoms.arrays[\"stress\"]\n",
    "\n",
    "    # Rename global info keys\n",
    "    if \"energy\" in atoms.info:\n",
    "        atoms.info[\"GAP_energy\"] = atoms.info[\"energy\"]\n",
    "        del atoms.info[\"energy\"]\n",
    "\n",
    "    if \"virial\" in atoms.info:\n",
    "        atoms.info[\"GAP_virial\"] = atoms.info[\"virial\"]\n",
    "        del atoms.info[\"virial\"]\n",
    "initial_frame.get_forces()  # triggers calculator\n",
    "rename_calculator_outputs(initial_frame)"
   ]
  },
  {
   "cell_type": "code",
   "execution_count": 22,
   "id": "e3768e79",
   "metadata": {},
   "outputs": [
    {
     "data": {
      "text/plain": [
       "True"
      ]
     },
     "execution_count": 22,
     "metadata": {},
     "output_type": "execute_result"
    }
   ],
   "source": [
    "# let's run MD at 300K to thermalise our structure\n",
    "\n",
    "import ase\n",
    "from ase.md.velocitydistribution import (\n",
    "    MaxwellBoltzmannDistribution,\n",
    "    ZeroRotation,\n",
    "    Stationary,\n",
    ") \n",
    "from ase.md import MDLogger\n",
    "from ase.md.nvtberendsen import NVTBerendsen\n",
    "from ase.io import read\n",
    "\n",
    "Tinit = 300  # initial temperature in Kelvin\n",
    "\n",
    "md_params = {\n",
    "    \"timestep\": 1 * ase.units.fs,  # MD timestep in femtoseconds\n",
    "    \"taut\": 100 * 0.5 * ase.units.fs,  # thermostat time constant\n",
    "}\n",
    "total_md_steps = 10000  # make sure change this to match the appropriate time scale of your system. \n",
    "\n",
    "# initialize velocities\n",
    "MaxwellBoltzmannDistribution(initial_frame, temperature_K=Tinit)\n",
    "Stationary(initial_frame)\n",
    "ZeroRotation(initial_frame)\n",
    "\n",
    "# initialize dynamics object\n",
    "dyn = NVTBerendsen(initial_frame, temperature_K=Tinit, **md_params)\n",
    "\n",
    "# write trajectory function\n",
    "def write_frame():\n",
    "    dyn.atoms.write(\n",
    "        f\"trajectory.xyz\", append=True\n",
    "    )  # make sure the extension is xyz. Make sure to save the path of each trajectory file to avoid overwriting. We will analyze these later.\n",
    "\n",
    "\n",
    "dyn.attach(write_frame, interval=100)  # set the frequency of writing to trajctory file\n",
    "\n",
    "# setup the logger\n",
    "dyn.attach(\n",
    "    MDLogger(\n",
    "        dyn,  # dynamics object\n",
    "        initial_frame,  # intial configuration\n",
    "        f\"log.log\",\n",
    "        peratom=True,\n",
    "        mode=\"a\",\n",
    "    ),\n",
    "    interval=100,  # frequency of writing the log\n",
    ")\n",
    "\n",
    "# run the MD\n",
    "dyn.run(total_md_steps)"
   ]
  },
  {
   "cell_type": "markdown",
   "id": "4282ea65",
   "metadata": {},
   "source": [
    "Now we will perform a graphitisation by taking a structure and holding it at a high temperature for a long time. This is a good way to study the stability of the MLIPs and their ability to reproduce the expected behavior of the system. We will also perform a melt-quench simulation, which is a more demanding simulation that involves a large temperature ramp and rapid cooling."
   ]
  },
  {
   "cell_type": "code",
   "execution_count": null,
   "id": "0104eb5d",
   "metadata": {},
   "outputs": [],
   "source": [
    "# Using the code above, try and recreate this but now for a different initial configuration and hold at high temperature for a longer time. Start with 40 ps. Save this trajectory as we will analyze it later. Try different densities and temperatures saving each trajectory with a different name.\n",
    "\n",
    "..."
   ]
  },
  {
   "cell_type": "code",
   "execution_count": 28,
   "id": "519245a3",
   "metadata": {},
   "outputs": [
    {
     "name": "stdout",
     "output_type": "stream",
     "text": [
      "Heating...\n",
      "Melting at 6000 K...\n",
      "Quenching...\n",
      "Melt-quench complete.\n"
     ]
    }
   ],
   "source": [
    "import numpy as np\n",
    "from ase import units\n",
    "from ase.md.velocitydistribution import MaxwellBoltzmannDistribution, Stationary, ZeroRotation\n",
    "from ase.md.nvtberendsen import NVTBerendsen\n",
    "from ase.md import MDLogger\n",
    "from ase.io import read, write\n",
    "from ase.io.trajectory import Trajectory\n",
    "\n",
    "# === Parameters ===\n",
    "Tinit = 300      # Initial temperature (K)\n",
    "Tmelt = 6000     # Melting temperature (K)\n",
    "Tfin = 300       # Final (quench) temperature (K)\n",
    "\n",
    "timestep = 1.0 * units.fs  # Time step\n",
    "taut = 50.0 * units.fs     # Thermostat time constant\n",
    "interval = 100             # Write output every 100 steps\n",
    "\n",
    "# Simulation steps (adjust as needed)\n",
    "heating_steps = 10000\n",
    "melt_hold_steps = 50000\n",
    "quench_steps = 20000\n",
    "\n",
    "# === Load initial structure ===\n",
    "#initial_frame = read(\"trajectory.xyz\", index=-1)  # or use `load_dataset()[0]` if from dataset\n",
    "initial_frame.calc = calculator  # Set the calculator for the initial frame\n",
    "MaxwellBoltzmannDistribution(initial_frame, temperature_K=Tinit)\n",
    "Stationary(initial_frame)\n",
    "ZeroRotation(initial_frame)\n",
    "\n",
    "# === Initialize trajectory and logger ===\n",
    "traj = \"trajectory.xyz\"\n",
    "logfile = \"md.log\"\n",
    "\n",
    "def write_frame():\n",
    "    write(traj, dyn.atoms, append=True)\n",
    "\n",
    "# === Create dynamics object ===\n",
    "dyn = NVTBerendsen(initial_frame, temperature_K=Tinit, timestep=timestep, taut=taut)\n",
    "dyn.attach(write_frame, interval=interval)\n",
    "dyn.attach(MDLogger(dyn, initial_frame, logfile, mode=\"a\", peratom=True), interval=interval)\n",
    "\n",
    "# === Heating phase ===\n",
    "print(\"Heating...\")\n",
    "heating_temps = np.linspace(Tinit, Tmelt, heating_steps // 10)\n",
    "for T in heating_temps:\n",
    "    dyn.set_temperature(T)\n",
    "    dyn.run(10)\n",
    "\n",
    "# === Melting / hold phase ===\n",
    "print(\"Melting at 6000 K...\")\n",
    "dyn.set_temperature(Tmelt)\n",
    "dyn.run(melt_hold_steps)\n",
    "\n",
    "# === Quenching phase ===\n",
    "print(\"Quenching...\")\n",
    "quench_temps = np.linspace(Tmelt, Tfin, quench_steps // 10)\n",
    "for T in quench_temps:\n",
    "    dyn.set_temperature(T)\n",
    "    dyn.run(10)\n",
    "\n",
    "print(\"Melt-quench complete.\")\n"
   ]
  },
  {
   "cell_type": "code",
   "execution_count": null,
   "id": "3a2d4cff",
   "metadata": {},
   "outputs": [],
   "source": [
    "# perform your analysis on the produced trajectory. Track sp2 and sp3 carbons, calculate the average bond length, etc using what we did in our previous class.\n",
    "..."
   ]
  }
 ],
 "metadata": {
  "kernelspec": {
   "display_name": "class",
   "language": "python",
   "name": "python3"
  },
  "language_info": {
   "codemirror_mode": {
    "name": "ipython",
    "version": 3
   },
   "file_extension": ".py",
   "mimetype": "text/x-python",
   "name": "python",
   "nbconvert_exporter": "python",
   "pygments_lexer": "ipython3",
   "version": "3.10.17"
  }
 },
 "nbformat": 4,
 "nbformat_minor": 5
}
